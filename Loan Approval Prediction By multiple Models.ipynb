{
 "cells": [
  {
   "cell_type": "markdown",
   "id": "4c4623d7",
   "metadata": {},
   "source": [
    "## ML Project - Loan Approval Prediction By Multiple ML Models\n",
    "### Models use : Logistic Regression, Decision Tree Classifier, Random Forest Classifier, KNeighbors Classifers"
   ]
  },
  {
   "cell_type": "code",
   "execution_count": 1,
   "id": "c1052ff0",
   "metadata": {},
   "outputs": [],
   "source": [
    "# Importing The Required Libraries\n",
    "import numpy as np\n",
    "import pandas as pd\n",
    "import matplotlib.pyplot as plt\n",
    "import seaborn as sns\n",
    "import warnings\n",
    "warnings.filterwarnings('ignore')\n",
    "%matplotlib inline\n",
    "\n",
    "from sklearn.preprocessing import LabelEncoder"
   ]
  },
  {
   "cell_type": "code",
   "execution_count": 2,
   "id": "4454ca10",
   "metadata": {},
   "outputs": [],
   "source": [
    "# Loading the dataset\n",
    "data = pd.read_csv('Loan_Data.csv')"
   ]
  },
  {
   "cell_type": "code",
   "execution_count": 3,
   "id": "dddde946",
   "metadata": {},
   "outputs": [
    {
     "data": {
      "text/html": [
       "<div>\n",
       "<style scoped>\n",
       "    .dataframe tbody tr th:only-of-type {\n",
       "        vertical-align: middle;\n",
       "    }\n",
       "\n",
       "    .dataframe tbody tr th {\n",
       "        vertical-align: top;\n",
       "    }\n",
       "\n",
       "    .dataframe thead th {\n",
       "        text-align: right;\n",
       "    }\n",
       "</style>\n",
       "<table border=\"1\" class=\"dataframe\">\n",
       "  <thead>\n",
       "    <tr style=\"text-align: right;\">\n",
       "      <th></th>\n",
       "      <th>Loan_ID</th>\n",
       "      <th>Gender</th>\n",
       "      <th>Married</th>\n",
       "      <th>Dependents</th>\n",
       "      <th>Education</th>\n",
       "      <th>Self_Employed</th>\n",
       "      <th>ApplicantIncome</th>\n",
       "      <th>CoapplicantIncome</th>\n",
       "      <th>LoanAmount</th>\n",
       "      <th>Loan_Amount_Term</th>\n",
       "      <th>Credit_History</th>\n",
       "      <th>Property_Area</th>\n",
       "      <th>Loan_Status</th>\n",
       "    </tr>\n",
       "  </thead>\n",
       "  <tbody>\n",
       "    <tr>\n",
       "      <th>0</th>\n",
       "      <td>LP001002</td>\n",
       "      <td>Male</td>\n",
       "      <td>No</td>\n",
       "      <td>0</td>\n",
       "      <td>Graduate</td>\n",
       "      <td>No</td>\n",
       "      <td>5849</td>\n",
       "      <td>0.0</td>\n",
       "      <td>NaN</td>\n",
       "      <td>360.0</td>\n",
       "      <td>1.0</td>\n",
       "      <td>Urban</td>\n",
       "      <td>Y</td>\n",
       "    </tr>\n",
       "    <tr>\n",
       "      <th>1</th>\n",
       "      <td>LP001003</td>\n",
       "      <td>Male</td>\n",
       "      <td>Yes</td>\n",
       "      <td>1</td>\n",
       "      <td>Graduate</td>\n",
       "      <td>No</td>\n",
       "      <td>4583</td>\n",
       "      <td>1508.0</td>\n",
       "      <td>128.0</td>\n",
       "      <td>360.0</td>\n",
       "      <td>1.0</td>\n",
       "      <td>Rural</td>\n",
       "      <td>N</td>\n",
       "    </tr>\n",
       "    <tr>\n",
       "      <th>2</th>\n",
       "      <td>LP001005</td>\n",
       "      <td>Male</td>\n",
       "      <td>Yes</td>\n",
       "      <td>0</td>\n",
       "      <td>Graduate</td>\n",
       "      <td>Yes</td>\n",
       "      <td>3000</td>\n",
       "      <td>0.0</td>\n",
       "      <td>66.0</td>\n",
       "      <td>360.0</td>\n",
       "      <td>1.0</td>\n",
       "      <td>Urban</td>\n",
       "      <td>Y</td>\n",
       "    </tr>\n",
       "    <tr>\n",
       "      <th>3</th>\n",
       "      <td>LP001006</td>\n",
       "      <td>Male</td>\n",
       "      <td>Yes</td>\n",
       "      <td>0</td>\n",
       "      <td>Not Graduate</td>\n",
       "      <td>No</td>\n",
       "      <td>2583</td>\n",
       "      <td>2358.0</td>\n",
       "      <td>120.0</td>\n",
       "      <td>360.0</td>\n",
       "      <td>1.0</td>\n",
       "      <td>Urban</td>\n",
       "      <td>Y</td>\n",
       "    </tr>\n",
       "    <tr>\n",
       "      <th>4</th>\n",
       "      <td>LP001008</td>\n",
       "      <td>Male</td>\n",
       "      <td>No</td>\n",
       "      <td>0</td>\n",
       "      <td>Graduate</td>\n",
       "      <td>No</td>\n",
       "      <td>6000</td>\n",
       "      <td>0.0</td>\n",
       "      <td>141.0</td>\n",
       "      <td>360.0</td>\n",
       "      <td>1.0</td>\n",
       "      <td>Urban</td>\n",
       "      <td>Y</td>\n",
       "    </tr>\n",
       "  </tbody>\n",
       "</table>\n",
       "</div>"
      ],
      "text/plain": [
       "    Loan_ID Gender Married Dependents     Education Self_Employed  \\\n",
       "0  LP001002   Male      No          0      Graduate            No   \n",
       "1  LP001003   Male     Yes          1      Graduate            No   \n",
       "2  LP001005   Male     Yes          0      Graduate           Yes   \n",
       "3  LP001006   Male     Yes          0  Not Graduate            No   \n",
       "4  LP001008   Male      No          0      Graduate            No   \n",
       "\n",
       "   ApplicantIncome  CoapplicantIncome  LoanAmount  Loan_Amount_Term  \\\n",
       "0             5849                0.0         NaN             360.0   \n",
       "1             4583             1508.0       128.0             360.0   \n",
       "2             3000                0.0        66.0             360.0   \n",
       "3             2583             2358.0       120.0             360.0   \n",
       "4             6000                0.0       141.0             360.0   \n",
       "\n",
       "   Credit_History Property_Area Loan_Status  \n",
       "0             1.0         Urban           Y  \n",
       "1             1.0         Rural           N  \n",
       "2             1.0         Urban           Y  \n",
       "3             1.0         Urban           Y  \n",
       "4             1.0         Urban           Y  "
      ]
     },
     "execution_count": 3,
     "metadata": {},
     "output_type": "execute_result"
    }
   ],
   "source": [
    "data.head()           # Getting the first 5 rows of the datasets "
   ]
  },
  {
   "cell_type": "code",
   "execution_count": 4,
   "id": "5842431b",
   "metadata": {},
   "outputs": [
    {
     "name": "stdout",
     "output_type": "stream",
     "text": [
      "Total Numbers of rows in datasets are : 614 \n",
      "Total numbers of columns in datasets are : 13\n"
     ]
    }
   ],
   "source": [
    "a = data.shape                  # getting the count of the rows and columns in datasets\n",
    "shape = a\n",
    "print(f\"Total Numbers of rows in datasets are : {a[0]} \\nTotal numbers of columns in datasets are : {a[1]}\")"
   ]
  },
  {
   "cell_type": "code",
   "execution_count": 5,
   "id": "d3d0d14b",
   "metadata": {},
   "outputs": [
    {
     "name": "stdout",
     "output_type": "stream",
     "text": [
      "The columns in the datasets are :\n",
      "\n",
      "Index(['Loan_ID', 'Gender', 'Married', 'Dependents', 'Education',\n",
      "       'Self_Employed', 'ApplicantIncome', 'CoapplicantIncome', 'LoanAmount',\n",
      "       'Loan_Amount_Term', 'Credit_History', 'Property_Area', 'Loan_Status'],\n",
      "      dtype='object')\n"
     ]
    }
   ],
   "source": [
    "c = data.columns             # Getting the columns names of the datasets\n",
    "print(f\"The columns in the datasets are :\\n\\n{c}\")"
   ]
  },
  {
   "cell_type": "code",
   "execution_count": 6,
   "id": "b38bff55",
   "metadata": {},
   "outputs": [
    {
     "data": {
      "text/html": [
       "<div>\n",
       "<style scoped>\n",
       "    .dataframe tbody tr th:only-of-type {\n",
       "        vertical-align: middle;\n",
       "    }\n",
       "\n",
       "    .dataframe tbody tr th {\n",
       "        vertical-align: top;\n",
       "    }\n",
       "\n",
       "    .dataframe thead th {\n",
       "        text-align: right;\n",
       "    }\n",
       "</style>\n",
       "<table border=\"1\" class=\"dataframe\">\n",
       "  <thead>\n",
       "    <tr style=\"text-align: right;\">\n",
       "      <th></th>\n",
       "      <th>ApplicantIncome</th>\n",
       "      <th>CoapplicantIncome</th>\n",
       "      <th>LoanAmount</th>\n",
       "      <th>Loan_Amount_Term</th>\n",
       "      <th>Credit_History</th>\n",
       "    </tr>\n",
       "  </thead>\n",
       "  <tbody>\n",
       "    <tr>\n",
       "      <th>count</th>\n",
       "      <td>614.000000</td>\n",
       "      <td>614.000000</td>\n",
       "      <td>592.000000</td>\n",
       "      <td>600.00000</td>\n",
       "      <td>564.000000</td>\n",
       "    </tr>\n",
       "    <tr>\n",
       "      <th>mean</th>\n",
       "      <td>5403.459283</td>\n",
       "      <td>1621.245798</td>\n",
       "      <td>146.412162</td>\n",
       "      <td>342.00000</td>\n",
       "      <td>0.842199</td>\n",
       "    </tr>\n",
       "    <tr>\n",
       "      <th>std</th>\n",
       "      <td>6109.041673</td>\n",
       "      <td>2926.248369</td>\n",
       "      <td>85.587325</td>\n",
       "      <td>65.12041</td>\n",
       "      <td>0.364878</td>\n",
       "    </tr>\n",
       "    <tr>\n",
       "      <th>min</th>\n",
       "      <td>150.000000</td>\n",
       "      <td>0.000000</td>\n",
       "      <td>9.000000</td>\n",
       "      <td>12.00000</td>\n",
       "      <td>0.000000</td>\n",
       "    </tr>\n",
       "    <tr>\n",
       "      <th>25%</th>\n",
       "      <td>2877.500000</td>\n",
       "      <td>0.000000</td>\n",
       "      <td>100.000000</td>\n",
       "      <td>360.00000</td>\n",
       "      <td>1.000000</td>\n",
       "    </tr>\n",
       "    <tr>\n",
       "      <th>50%</th>\n",
       "      <td>3812.500000</td>\n",
       "      <td>1188.500000</td>\n",
       "      <td>128.000000</td>\n",
       "      <td>360.00000</td>\n",
       "      <td>1.000000</td>\n",
       "    </tr>\n",
       "    <tr>\n",
       "      <th>75%</th>\n",
       "      <td>5795.000000</td>\n",
       "      <td>2297.250000</td>\n",
       "      <td>168.000000</td>\n",
       "      <td>360.00000</td>\n",
       "      <td>1.000000</td>\n",
       "    </tr>\n",
       "    <tr>\n",
       "      <th>max</th>\n",
       "      <td>81000.000000</td>\n",
       "      <td>41667.000000</td>\n",
       "      <td>700.000000</td>\n",
       "      <td>480.00000</td>\n",
       "      <td>1.000000</td>\n",
       "    </tr>\n",
       "  </tbody>\n",
       "</table>\n",
       "</div>"
      ],
      "text/plain": [
       "       ApplicantIncome  CoapplicantIncome  LoanAmount  Loan_Amount_Term  \\\n",
       "count       614.000000         614.000000  592.000000         600.00000   \n",
       "mean       5403.459283        1621.245798  146.412162         342.00000   \n",
       "std        6109.041673        2926.248369   85.587325          65.12041   \n",
       "min         150.000000           0.000000    9.000000          12.00000   \n",
       "25%        2877.500000           0.000000  100.000000         360.00000   \n",
       "50%        3812.500000        1188.500000  128.000000         360.00000   \n",
       "75%        5795.000000        2297.250000  168.000000         360.00000   \n",
       "max       81000.000000       41667.000000  700.000000         480.00000   \n",
       "\n",
       "       Credit_History  \n",
       "count      564.000000  \n",
       "mean         0.842199  \n",
       "std          0.364878  \n",
       "min          0.000000  \n",
       "25%          1.000000  \n",
       "50%          1.000000  \n",
       "75%          1.000000  \n",
       "max          1.000000  "
      ]
     },
     "execution_count": 6,
     "metadata": {},
     "output_type": "execute_result"
    }
   ],
   "source": [
    "data.describe()       "
   ]
  },
  {
   "cell_type": "code",
   "execution_count": 7,
   "id": "338949b0",
   "metadata": {},
   "outputs": [
    {
     "name": "stdout",
     "output_type": "stream",
     "text": [
      "<class 'pandas.core.frame.DataFrame'>\n",
      "RangeIndex: 614 entries, 0 to 613\n",
      "Data columns (total 13 columns):\n",
      " #   Column             Non-Null Count  Dtype  \n",
      "---  ------             --------------  -----  \n",
      " 0   Loan_ID            614 non-null    object \n",
      " 1   Gender             601 non-null    object \n",
      " 2   Married            611 non-null    object \n",
      " 3   Dependents         599 non-null    object \n",
      " 4   Education          614 non-null    object \n",
      " 5   Self_Employed      582 non-null    object \n",
      " 6   ApplicantIncome    614 non-null    int64  \n",
      " 7   CoapplicantIncome  614 non-null    float64\n",
      " 8   LoanAmount         592 non-null    float64\n",
      " 9   Loan_Amount_Term   600 non-null    float64\n",
      " 10  Credit_History     564 non-null    float64\n",
      " 11  Property_Area      614 non-null    object \n",
      " 12  Loan_Status        614 non-null    object \n",
      "dtypes: float64(4), int64(1), object(8)\n",
      "memory usage: 62.5+ KB\n"
     ]
    }
   ],
   "source": [
    "data.info()                 # checking the datatypes and other features of the columns "
   ]
  },
  {
   "cell_type": "code",
   "execution_count": 8,
   "id": "4d0c6580",
   "metadata": {},
   "outputs": [
    {
     "data": {
      "text/plain": [
       "Loan_ID               0\n",
       "Gender               13\n",
       "Married               3\n",
       "Dependents           15\n",
       "Education             0\n",
       "Self_Employed        32\n",
       "ApplicantIncome       0\n",
       "CoapplicantIncome     0\n",
       "LoanAmount           22\n",
       "Loan_Amount_Term     14\n",
       "Credit_History       50\n",
       "Property_Area         0\n",
       "Loan_Status           0\n",
       "dtype: int64"
      ]
     },
     "execution_count": 8,
     "metadata": {},
     "output_type": "execute_result"
    }
   ],
   "source": [
    "data.isnull().sum()        # checking for the null values in each columns "
   ]
  },
  {
   "cell_type": "code",
   "execution_count": 9,
   "id": "6dbfa892",
   "metadata": {},
   "outputs": [
    {
     "data": {
      "text/plain": [
       "'for filling the values of object datatype column we mainly use mode\\nWhile filling the null values for the numerical datatype column we must check for the is there is any outlier present in the \\ncolumn or not if yes then we go with the median,and if no then we simply use mean value'"
      ]
     },
     "execution_count": 9,
     "metadata": {},
     "output_type": "execute_result"
    }
   ],
   "source": [
    "# filling the null values that are present in each columns \n",
    "'''for filling the values of object datatype column we mainly use mode\n",
    "While filling the null values for the numerical datatype column we must check for the is there is any outlier present in the \n",
    "column or not if yes then we go with the median,and if no then we simply use mean value'''"
   ]
  },
  {
   "cell_type": "code",
   "execution_count": 10,
   "id": "349cde77",
   "metadata": {},
   "outputs": [
    {
     "data": {
      "text/plain": [
       "<Axes: >"
      ]
     },
     "execution_count": 10,
     "metadata": {},
     "output_type": "execute_result"
    },
    {
     "data": {
      "image/png": "[encoded data removed]",
      "text/plain": [
       "<Figure size 1000x500 with 1 Axes>"
      ]
     },
     "metadata": {},
     "output_type": "display_data"
    }
   ],
   "source": [
    "# checking the outliers(outliers are those values that are different from the remaining values in column)\n",
    "\n",
    "plt.figure(figsize=(10,5))\n",
    "sns.boxplot(data)"
   ]
  },
  {
   "cell_type": "code",
   "execution_count": 11,
   "id": "212c36c5",
   "metadata": {},
   "outputs": [
    {
     "data": {
      "text/plain": [
       "'For handing the null or missing values in the AplicantIncome and CoapplicantIncome We use \"median\" '"
      ]
     },
     "execution_count": 11,
     "metadata": {},
     "output_type": "execute_result"
    }
   ],
   "source": [
    "'''Like from the above visualzation we can easily get that \"ApplicantIncome\" and \"Coapplicantincome\" Has more outliers as \n",
    "compare to others'''\n",
    "'''For handing the null or missing values in the AplicantIncome and CoapplicantIncome We use \"median\" '''"
   ]
  },
  {
   "cell_type": "code",
   "execution_count": 12,
   "id": "8950c6ad",
   "metadata": {},
   "outputs": [],
   "source": [
    "# Handling the null or missing values of the numerical datatype columns\n",
    "data['LoanAmount'] = data['LoanAmount'].fillna(data['LoanAmount'].median())\n",
    "data['Loan_Amount_Term'] = data['Loan_Amount_Term'].fillna(data['Loan_Amount_Term'].mean())\n",
    "data['Credit_History'] = data['Credit_History'].fillna(data['Credit_History'].mean())"
   ]
  },
  {
   "cell_type": "code",
   "execution_count": 13,
   "id": "da16a41f",
   "metadata": {},
   "outputs": [],
   "source": [
    "# Handling the null or missing values of the Object datatype columns\n",
    "data['Gender'] = data['Gender'].fillna(data['Gender'].mode()[0])\n",
    "data['Married'] = data['Married'].fillna(data['Married'].mode()[0])\n",
    "data['Dependents'] = data['Dependents'].fillna(data['Dependents'].mode()[0])\n",
    "data['Self_Employed'] = data['Self_Employed'].fillna(data['Self_Employed'].mode()[0])"
   ]
  },
  {
   "cell_type": "code",
   "execution_count": 14,
   "id": "ba9f37a9",
   "metadata": {},
   "outputs": [
    {
     "data": {
      "text/plain": [
       "Loan_ID              0\n",
       "Gender               0\n",
       "Married              0\n",
       "Dependents           0\n",
       "Education            0\n",
       "Self_Employed        0\n",
       "ApplicantIncome      0\n",
       "CoapplicantIncome    0\n",
       "LoanAmount           0\n",
       "Loan_Amount_Term     0\n",
       "Credit_History       0\n",
       "Property_Area        0\n",
       "Loan_Status          0\n",
       "dtype: int64"
      ]
     },
     "execution_count": 14,
     "metadata": {},
     "output_type": "execute_result"
    }
   ],
   "source": [
    "data.isnull().sum()            # checking the null and missing values after the filling the null or missing values "
   ]
  },
  {
   "cell_type": "code",
   "execution_count": 15,
   "id": "9b7b2370",
   "metadata": {},
   "outputs": [
    {
     "name": "stdout",
     "output_type": "stream",
     "text": [
      "Number of people who took loan by gender: \n",
      "Gender\n",
      "Male      502\n",
      "Female    112\n",
      "Name: count, dtype: int64\n"
     ]
    },
    {
     "data": {
      "image/png": "[encoded data removed]",
      "text/plain": [
       "<Figure size 640x480 with 1 Axes>"
      ]
     },
     "metadata": {},
     "output_type": "display_data"
    }
   ],
   "source": [
    "# Now \"TIME TO VISUALIZE SOME FEATURES\"\n",
    "# visualization of the Gender Feature which helps to analyze the loan applications by particular gender\n",
    "print(\"Number of people who took loan by gender: \")\n",
    "print(data['Gender'].value_counts())    # Value_counts() will return the count values for male and female application for loan\n",
    "sns.countplot(x='Gender',data=data,palette='Set1')\n",
    "\n",
    "# count values display on the top of the bars\n",
    "for bar in plt.gca().patches:\n",
    "    plt.text(bar.get_x() + bar.get_width() / 2, bar.get_height(), int(bar.get_height()),\n",
    "             ha='center', va='bottom')"
   ]
  },
  {
   "cell_type": "code",
   "execution_count": 16,
   "id": "6ce1a2de",
   "metadata": {},
   "outputs": [
    {
     "name": "stdout",
     "output_type": "stream",
     "text": [
      "Number of loan applications by the married status are : \n",
      "Married-yes : 401 \n",
      " Married-no : 213\n"
     ]
    },
    {
     "data": {
      "image/png": "[encoded data removed]",
      "text/plain": [
       "<Figure size 640x480 with 1 Axes>"
      ]
     },
     "metadata": {},
     "output_type": "display_data"
    }
   ],
   "source": [
    "# visualization of the married status Feature which helps to analyze the loan applications\n",
    "print(\"Number of loan applications by the married status are : \")\n",
    "m = data['Married'].value_counts()\n",
    "yes_count = m.get('Yes', 0)  # Default to 0 if 'Yes' is not in the data\n",
    "no_count = m.get('No', 0)   # Default to 0 if 'No' is not in the data\n",
    "print(f\"Married-yes : {yes_count} \\n Married-no : {no_count}\")\n",
    "sns.countplot(x='Married',data=data,palette='Set1')\n",
    "\n",
    "\n",
    "# count values display on the top of the bars\n",
    "for bar in plt.gca().patches:\n",
    "    plt.text(bar.get_x() + bar.get_width() / 2, bar.get_height(), int(bar.get_height()),\n",
    "             ha='center', va='bottom')"
   ]
  },
  {
   "cell_type": "code",
   "execution_count": 17,
   "id": "fa59f38b",
   "metadata": {},
   "outputs": [
    {
     "data": {
      "text/html": [
       "<div>\n",
       "<style scoped>\n",
       "    .dataframe tbody tr th:only-of-type {\n",
       "        vertical-align: middle;\n",
       "    }\n",
       "\n",
       "    .dataframe tbody tr th {\n",
       "        vertical-align: top;\n",
       "    }\n",
       "\n",
       "    .dataframe thead th {\n",
       "        text-align: right;\n",
       "    }\n",
       "</style>\n",
       "<table border=\"1\" class=\"dataframe\">\n",
       "  <thead>\n",
       "    <tr style=\"text-align: right;\">\n",
       "      <th></th>\n",
       "      <th>ApplicantIncome</th>\n",
       "      <th>CoapplicantIncome</th>\n",
       "      <th>LoanAmount</th>\n",
       "      <th>Loan_Amount_Term</th>\n",
       "      <th>Credit_History</th>\n",
       "    </tr>\n",
       "  </thead>\n",
       "  <tbody>\n",
       "    <tr>\n",
       "      <th>ApplicantIncome</th>\n",
       "      <td>1.000000</td>\n",
       "      <td>-0.116605</td>\n",
       "      <td>0.565181</td>\n",
       "      <td>-0.045242</td>\n",
       "      <td>-0.014477</td>\n",
       "    </tr>\n",
       "    <tr>\n",
       "      <th>CoapplicantIncome</th>\n",
       "      <td>-0.116605</td>\n",
       "      <td>1.000000</td>\n",
       "      <td>0.189218</td>\n",
       "      <td>-0.059675</td>\n",
       "      <td>-0.001665</td>\n",
       "    </tr>\n",
       "    <tr>\n",
       "      <th>LoanAmount</th>\n",
       "      <td>0.565181</td>\n",
       "      <td>0.189218</td>\n",
       "      <td>1.000000</td>\n",
       "      <td>0.039235</td>\n",
       "      <td>-0.007031</td>\n",
       "    </tr>\n",
       "    <tr>\n",
       "      <th>Loan_Amount_Term</th>\n",
       "      <td>-0.045242</td>\n",
       "      <td>-0.059675</td>\n",
       "      <td>0.039235</td>\n",
       "      <td>1.000000</td>\n",
       "      <td>0.001395</td>\n",
       "    </tr>\n",
       "    <tr>\n",
       "      <th>Credit_History</th>\n",
       "      <td>-0.014477</td>\n",
       "      <td>-0.001665</td>\n",
       "      <td>-0.007031</td>\n",
       "      <td>0.001395</td>\n",
       "      <td>1.000000</td>\n",
       "    </tr>\n",
       "  </tbody>\n",
       "</table>\n",
       "</div>"
      ],
      "text/plain": [
       "                   ApplicantIncome  CoapplicantIncome  LoanAmount  \\\n",
       "ApplicantIncome           1.000000          -0.116605    0.565181   \n",
       "CoapplicantIncome        -0.116605           1.000000    0.189218   \n",
       "LoanAmount                0.565181           0.189218    1.000000   \n",
       "Loan_Amount_Term         -0.045242          -0.059675    0.039235   \n",
       "Credit_History           -0.014477          -0.001665   -0.007031   \n",
       "\n",
       "                   Loan_Amount_Term  Credit_History  \n",
       "ApplicantIncome           -0.045242       -0.014477  \n",
       "CoapplicantIncome         -0.059675       -0.001665  \n",
       "LoanAmount                 0.039235       -0.007031  \n",
       "Loan_Amount_Term           1.000000        0.001395  \n",
       "Credit_History             0.001395        1.000000  "
      ]
     },
     "execution_count": 17,
     "metadata": {},
     "output_type": "execute_result"
    }
   ],
   "source": [
    "# Now , we can check for corelation between the features of the datasets \n",
    "# For Finding the Correlation The Function use is data.corr()\n",
    "# Select only numerical columns\n",
    "numerical_data = data.select_dtypes(include=['number'])\n",
    "\n",
    "# Getting the correlation matrix\n",
    "co_relation = numerical_data.corr()\n",
    "co_relation"
   ]
  },
  {
   "cell_type": "code",
   "execution_count": 18,
   "id": "39e49092",
   "metadata": {},
   "outputs": [
    {
     "data": {
      "image/png": "[encoded data removed]",
      "text/plain": [
       "<Figure size 1000x600 with 2 Axes>"
      ]
     },
     "metadata": {},
     "output_type": "display_data"
    }
   ],
   "source": [
    "# visualization of the Co_relation\n",
    "plt.figure(figsize=(10, 6))\n",
    "sns.heatmap(co_relation, annot=True, cmap='BuPu')\n",
    "plt.show()"
   ]
  },
  {
   "cell_type": "code",
   "execution_count": 19,
   "id": "fe023725",
   "metadata": {},
   "outputs": [
    {
     "data": {
      "text/plain": [
       "'checking the Features of the datasets(adding new features if required), \\nLabelEncoding, OnehotEncoding to convert the categorical values or datatype into numerical'"
      ]
     },
     "execution_count": 19,
     "metadata": {},
     "output_type": "execute_result"
    }
   ],
   "source": [
    "# Featuring Engineering which includes : \n",
    "'''checking the Features of the datasets(adding new features if required), \n",
    "LabelEncoding, OnehotEncoding to convert the categorical values or datatype into numerical'''"
   ]
  },
  {
   "cell_type": "code",
   "execution_count": 20,
   "id": "a25dcb4a",
   "metadata": {},
   "outputs": [],
   "source": [
    "# adding the new feature \n",
    "data['TotalIncome'] = data['ApplicantIncome'] + data['CoapplicantIncome']"
   ]
  },
  {
   "cell_type": "code",
   "execution_count": 21,
   "id": "5cc642a6",
   "metadata": {},
   "outputs": [],
   "source": [
    "# checking the value of the numeric features like in applicantincome we can see the \n",
    "# there are many changes in the values means they are very skewed so we can apply logarithmic function \n",
    "# in the numeric features  so that they can follow the normal distributions"
   ]
  },
  {
   "cell_type": "code",
   "execution_count": 22,
   "id": "345d3e79",
   "metadata": {},
   "outputs": [],
   "source": [
    "# Appling the \"Log Transformation\" (normalization)\n",
    "data['NewApplicantIncome'] = np.log(data['ApplicantIncome']+1)"
   ]
  },
  {
   "cell_type": "code",
   "execution_count": 23,
   "id": "7d24913a",
   "metadata": {},
   "outputs": [
    {
     "data": {
      "image/png": "[encoded data removed]",
      "text/plain": [
       "<Figure size 400x400 with 1 Axes>"
      ]
     },
     "metadata": {},
     "output_type": "display_data"
    },
    {
     "data": {
      "image/png": "[encoded data removed]",
      "text/plain": [
       "<Figure size 400x400 with 1 Axes>"
      ]
     },
     "metadata": {},
     "output_type": "display_data"
    }
   ],
   "source": [
    "# Now we can visualize the distribution after appling log transformation\n",
    "plt.figure(figsize=(4, 4))\n",
    "sns.histplot(data['NewApplicantIncome'])\n",
    "plt.show()\n",
    "plt.figure(figsize=(4, 4))\n",
    "sns.distplot(data['NewApplicantIncome'])\n",
    "plt.show()"
   ]
  },
  {
   "cell_type": "code",
   "execution_count": 24,
   "id": "8f88018f",
   "metadata": {},
   "outputs": [
    {
     "data": {
      "text/html": [
       "<div>\n",
       "<style scoped>\n",
       "    .dataframe tbody tr th:only-of-type {\n",
       "        vertical-align: middle;\n",
       "    }\n",
       "\n",
       "    .dataframe tbody tr th {\n",
       "        vertical-align: top;\n",
       "    }\n",
       "\n",
       "    .dataframe thead th {\n",
       "        text-align: right;\n",
       "    }\n",
       "</style>\n",
       "<table border=\"1\" class=\"dataframe\">\n",
       "  <thead>\n",
       "    <tr style=\"text-align: right;\">\n",
       "      <th></th>\n",
       "      <th>Loan_ID</th>\n",
       "      <th>Gender</th>\n",
       "      <th>Married</th>\n",
       "      <th>Dependents</th>\n",
       "      <th>Education</th>\n",
       "      <th>Self_Employed</th>\n",
       "      <th>ApplicantIncome</th>\n",
       "      <th>CoapplicantIncome</th>\n",
       "      <th>LoanAmount</th>\n",
       "      <th>Loan_Amount_Term</th>\n",
       "      <th>Credit_History</th>\n",
       "      <th>Property_Area</th>\n",
       "      <th>Loan_Status</th>\n",
       "      <th>TotalIncome</th>\n",
       "      <th>NewApplicantIncome</th>\n",
       "    </tr>\n",
       "  </thead>\n",
       "  <tbody>\n",
       "    <tr>\n",
       "      <th>0</th>\n",
       "      <td>LP001002</td>\n",
       "      <td>Male</td>\n",
       "      <td>No</td>\n",
       "      <td>0</td>\n",
       "      <td>Graduate</td>\n",
       "      <td>No</td>\n",
       "      <td>5849</td>\n",
       "      <td>0.0</td>\n",
       "      <td>128.0</td>\n",
       "      <td>360.0</td>\n",
       "      <td>1.0</td>\n",
       "      <td>Urban</td>\n",
       "      <td>Y</td>\n",
       "      <td>5849.0</td>\n",
       "      <td>8.674197</td>\n",
       "    </tr>\n",
       "    <tr>\n",
       "      <th>1</th>\n",
       "      <td>LP001003</td>\n",
       "      <td>Male</td>\n",
       "      <td>Yes</td>\n",
       "      <td>1</td>\n",
       "      <td>Graduate</td>\n",
       "      <td>No</td>\n",
       "      <td>4583</td>\n",
       "      <td>1508.0</td>\n",
       "      <td>128.0</td>\n",
       "      <td>360.0</td>\n",
       "      <td>1.0</td>\n",
       "      <td>Rural</td>\n",
       "      <td>N</td>\n",
       "      <td>6091.0</td>\n",
       "      <td>8.430327</td>\n",
       "    </tr>\n",
       "    <tr>\n",
       "      <th>2</th>\n",
       "      <td>LP001005</td>\n",
       "      <td>Male</td>\n",
       "      <td>Yes</td>\n",
       "      <td>0</td>\n",
       "      <td>Graduate</td>\n",
       "      <td>Yes</td>\n",
       "      <td>3000</td>\n",
       "      <td>0.0</td>\n",
       "      <td>66.0</td>\n",
       "      <td>360.0</td>\n",
       "      <td>1.0</td>\n",
       "      <td>Urban</td>\n",
       "      <td>Y</td>\n",
       "      <td>3000.0</td>\n",
       "      <td>8.006701</td>\n",
       "    </tr>\n",
       "    <tr>\n",
       "      <th>3</th>\n",
       "      <td>LP001006</td>\n",
       "      <td>Male</td>\n",
       "      <td>Yes</td>\n",
       "      <td>0</td>\n",
       "      <td>Not Graduate</td>\n",
       "      <td>No</td>\n",
       "      <td>2583</td>\n",
       "      <td>2358.0</td>\n",
       "      <td>120.0</td>\n",
       "      <td>360.0</td>\n",
       "      <td>1.0</td>\n",
       "      <td>Urban</td>\n",
       "      <td>Y</td>\n",
       "      <td>4941.0</td>\n",
       "      <td>7.857094</td>\n",
       "    </tr>\n",
       "    <tr>\n",
       "      <th>4</th>\n",
       "      <td>LP001008</td>\n",
       "      <td>Male</td>\n",
       "      <td>No</td>\n",
       "      <td>0</td>\n",
       "      <td>Graduate</td>\n",
       "      <td>No</td>\n",
       "      <td>6000</td>\n",
       "      <td>0.0</td>\n",
       "      <td>141.0</td>\n",
       "      <td>360.0</td>\n",
       "      <td>1.0</td>\n",
       "      <td>Urban</td>\n",
       "      <td>Y</td>\n",
       "      <td>6000.0</td>\n",
       "      <td>8.699681</td>\n",
       "    </tr>\n",
       "  </tbody>\n",
       "</table>\n",
       "</div>"
      ],
      "text/plain": [
       "    Loan_ID Gender Married Dependents     Education Self_Employed  \\\n",
       "0  LP001002   Male      No          0      Graduate            No   \n",
       "1  LP001003   Male     Yes          1      Graduate            No   \n",
       "2  LP001005   Male     Yes          0      Graduate           Yes   \n",
       "3  LP001006   Male     Yes          0  Not Graduate            No   \n",
       "4  LP001008   Male      No          0      Graduate            No   \n",
       "\n",
       "   ApplicantIncome  CoapplicantIncome  LoanAmount  Loan_Amount_Term  \\\n",
       "0             5849                0.0       128.0             360.0   \n",
       "1             4583             1508.0       128.0             360.0   \n",
       "2             3000                0.0        66.0             360.0   \n",
       "3             2583             2358.0       120.0             360.0   \n",
       "4             6000                0.0       141.0             360.0   \n",
       "\n",
       "   Credit_History Property_Area Loan_Status  TotalIncome  NewApplicantIncome  \n",
       "0             1.0         Urban           Y       5849.0            8.674197  \n",
       "1             1.0         Rural           N       6091.0            8.430327  \n",
       "2             1.0         Urban           Y       3000.0            8.006701  \n",
       "3             1.0         Urban           Y       4941.0            7.857094  \n",
       "4             1.0         Urban           Y       6000.0            8.699681  "
      ]
     },
     "execution_count": 24,
     "metadata": {},
     "output_type": "execute_result"
    }
   ],
   "source": [
    "data.head()"
   ]
  },
  {
   "cell_type": "code",
   "execution_count": 25,
   "id": "5b758831",
   "metadata": {},
   "outputs": [
    {
     "data": {
      "text/plain": [
       "'like we have created new feature \"TotalIncome\" so we can drop the \"CoapplicantIncome\"\\nlike this we can created a new feature for loanAmount and Loan_amount_Term and perform transformation on it \\nand drop the unwanted fetaures'"
      ]
     },
     "execution_count": 25,
     "metadata": {},
     "output_type": "execute_result"
    }
   ],
   "source": [
    "# Next,Dropping the unwanted columns as we have created new columns or features \n",
    "'''like we have created new feature \"TotalIncome\" so we can drop the \"CoapplicantIncome\"\n",
    "like this we can created a new feature for loanAmount and Loan_amount_Term and perform transformation on it \n",
    "and drop the unwanted fetaures'''\n"
   ]
  },
  {
   "cell_type": "code",
   "execution_count": 26,
   "id": "3389d28d",
   "metadata": {},
   "outputs": [],
   "source": [
    "# Creating new feature for usin LoanAmount and Loan_Amount_Term\n",
    "data['TotalLoanAmount'] = data['LoanAmount'] + data['Loan_Amount_Term']"
   ]
  },
  {
   "cell_type": "code",
   "execution_count": 27,
   "id": "16d5a807",
   "metadata": {},
   "outputs": [],
   "source": [
    "# Appling the \"Log Transformation\" (normalization)\n",
    "data['NewLoanAmount'] = np.log(data['LoanAmount']+1)             # normalization for LoanAmount\n",
    "data['NewLoan_Amount_Term'] = np.log(data['Loan_Amount_Term']+1) # normalization for Loan_Amount_Term"
   ]
  },
  {
   "cell_type": "code",
   "execution_count": 28,
   "id": "924de394",
   "metadata": {},
   "outputs": [
    {
     "data": {
      "image/png": "[encoded data removed]",
      "text/plain": [
       "<Figure size 200x200 with 1 Axes>"
      ]
     },
     "metadata": {},
     "output_type": "display_data"
    },
    {
     "data": {
      "image/png": "[encoded data removed]",
      "text/plain": [
       "<Figure size 200x200 with 1 Axes>"
      ]
     },
     "metadata": {},
     "output_type": "display_data"
    }
   ],
   "source": [
    "# Now we can visualize the distribution after appling log transformation\n",
    "#visualization for LoanAmount\n",
    "plt.figure(figsize=(2, 2))\n",
    "sns.histplot(data['NewLoanAmount'])\n",
    "plt.show()\n",
    "plt.figure(figsize=(2, 2))\n",
    "sns.distplot(data['NewLoanAmount'])\n",
    "plt.show()"
   ]
  },
  {
   "cell_type": "code",
   "execution_count": 29,
   "id": "2814a3a9",
   "metadata": {},
   "outputs": [
    {
     "data": {
      "image/png": "[encoded data removed]",
      "text/plain": [
       "<Figure size 200x200 with 1 Axes>"
      ]
     },
     "metadata": {},
     "output_type": "display_data"
    },
    {
     "data": {
      "image/png": "[encoded data removed]",
      "text/plain": [
       "<Figure size 200x200 with 1 Axes>"
      ]
     },
     "metadata": {},
     "output_type": "display_data"
    }
   ],
   "source": [
    "# visualizations for Loan_Amount_Term\n",
    "plt.figure(figsize=(2, 2))\n",
    "sns.histplot(data['NewLoan_Amount_Term'])\n",
    "plt.show()\n",
    "plt.figure(figsize=(2, 2))\n",
    "sns.distplot(data['NewLoan_Amount_Term'])\n",
    "plt.show()"
   ]
  },
  {
   "cell_type": "code",
   "execution_count": 30,
   "id": "a2d0cc40",
   "metadata": {},
   "outputs": [],
   "source": [
    "data['NewTotalIncome'] = np.log(data['TotalIncome']+1)"
   ]
  },
  {
   "cell_type": "code",
   "execution_count": 31,
   "id": "f174807d",
   "metadata": {},
   "outputs": [
    {
     "data": {
      "image/png": "[encoded data removed]",
      "text/plain": [
       "<Figure size 200x200 with 1 Axes>"
      ]
     },
     "metadata": {},
     "output_type": "display_data"
    },
    {
     "data": {
      "image/png": "[encoded data removed]",
      "text/plain": [
       "<Figure size 200x200 with 1 Axes>"
      ]
     },
     "metadata": {},
     "output_type": "display_data"
    }
   ],
   "source": [
    "# visualizations for created new feature\n",
    "plt.figure(figsize=(2, 2))\n",
    "sns.histplot(data['NewTotalIncome'])\n",
    "plt.show()\n",
    "plt.figure(figsize=(2, 2))\n",
    "sns.distplot(data['NewTotalIncome'])\n",
    "plt.show()"
   ]
  },
  {
   "cell_type": "code",
   "execution_count": 32,
   "id": "45519bc6",
   "metadata": {},
   "outputs": [
    {
     "data": {
      "text/html": [
       "<div>\n",
       "<style scoped>\n",
       "    .dataframe tbody tr th:only-of-type {\n",
       "        vertical-align: middle;\n",
       "    }\n",
       "\n",
       "    .dataframe tbody tr th {\n",
       "        vertical-align: top;\n",
       "    }\n",
       "\n",
       "    .dataframe thead th {\n",
       "        text-align: right;\n",
       "    }\n",
       "</style>\n",
       "<table border=\"1\" class=\"dataframe\">\n",
       "  <thead>\n",
       "    <tr style=\"text-align: right;\">\n",
       "      <th></th>\n",
       "      <th>Loan_ID</th>\n",
       "      <th>Gender</th>\n",
       "      <th>Married</th>\n",
       "      <th>Dependents</th>\n",
       "      <th>Education</th>\n",
       "      <th>Self_Employed</th>\n",
       "      <th>ApplicantIncome</th>\n",
       "      <th>CoapplicantIncome</th>\n",
       "      <th>LoanAmount</th>\n",
       "      <th>Loan_Amount_Term</th>\n",
       "      <th>Credit_History</th>\n",
       "      <th>Property_Area</th>\n",
       "      <th>Loan_Status</th>\n",
       "      <th>TotalIncome</th>\n",
       "      <th>NewApplicantIncome</th>\n",
       "      <th>TotalLoanAmount</th>\n",
       "      <th>NewLoanAmount</th>\n",
       "      <th>NewLoan_Amount_Term</th>\n",
       "      <th>NewTotalIncome</th>\n",
       "    </tr>\n",
       "  </thead>\n",
       "  <tbody>\n",
       "    <tr>\n",
       "      <th>0</th>\n",
       "      <td>LP001002</td>\n",
       "      <td>Male</td>\n",
       "      <td>No</td>\n",
       "      <td>0</td>\n",
       "      <td>Graduate</td>\n",
       "      <td>No</td>\n",
       "      <td>5849</td>\n",
       "      <td>0.0</td>\n",
       "      <td>128.0</td>\n",
       "      <td>360.0</td>\n",
       "      <td>1.0</td>\n",
       "      <td>Urban</td>\n",
       "      <td>Y</td>\n",
       "      <td>5849.0</td>\n",
       "      <td>8.674197</td>\n",
       "      <td>488.0</td>\n",
       "      <td>4.859812</td>\n",
       "      <td>5.888878</td>\n",
       "      <td>8.674197</td>\n",
       "    </tr>\n",
       "    <tr>\n",
       "      <th>1</th>\n",
       "      <td>LP001003</td>\n",
       "      <td>Male</td>\n",
       "      <td>Yes</td>\n",
       "      <td>1</td>\n",
       "      <td>Graduate</td>\n",
       "      <td>No</td>\n",
       "      <td>4583</td>\n",
       "      <td>1508.0</td>\n",
       "      <td>128.0</td>\n",
       "      <td>360.0</td>\n",
       "      <td>1.0</td>\n",
       "      <td>Rural</td>\n",
       "      <td>N</td>\n",
       "      <td>6091.0</td>\n",
       "      <td>8.430327</td>\n",
       "      <td>488.0</td>\n",
       "      <td>4.859812</td>\n",
       "      <td>5.888878</td>\n",
       "      <td>8.714732</td>\n",
       "    </tr>\n",
       "    <tr>\n",
       "      <th>2</th>\n",
       "      <td>LP001005</td>\n",
       "      <td>Male</td>\n",
       "      <td>Yes</td>\n",
       "      <td>0</td>\n",
       "      <td>Graduate</td>\n",
       "      <td>Yes</td>\n",
       "      <td>3000</td>\n",
       "      <td>0.0</td>\n",
       "      <td>66.0</td>\n",
       "      <td>360.0</td>\n",
       "      <td>1.0</td>\n",
       "      <td>Urban</td>\n",
       "      <td>Y</td>\n",
       "      <td>3000.0</td>\n",
       "      <td>8.006701</td>\n",
       "      <td>426.0</td>\n",
       "      <td>4.204693</td>\n",
       "      <td>5.888878</td>\n",
       "      <td>8.006701</td>\n",
       "    </tr>\n",
       "    <tr>\n",
       "      <th>3</th>\n",
       "      <td>LP001006</td>\n",
       "      <td>Male</td>\n",
       "      <td>Yes</td>\n",
       "      <td>0</td>\n",
       "      <td>Not Graduate</td>\n",
       "      <td>No</td>\n",
       "      <td>2583</td>\n",
       "      <td>2358.0</td>\n",
       "      <td>120.0</td>\n",
       "      <td>360.0</td>\n",
       "      <td>1.0</td>\n",
       "      <td>Urban</td>\n",
       "      <td>Y</td>\n",
       "      <td>4941.0</td>\n",
       "      <td>7.857094</td>\n",
       "      <td>480.0</td>\n",
       "      <td>4.795791</td>\n",
       "      <td>5.888878</td>\n",
       "      <td>8.505525</td>\n",
       "    </tr>\n",
       "    <tr>\n",
       "      <th>4</th>\n",
       "      <td>LP001008</td>\n",
       "      <td>Male</td>\n",
       "      <td>No</td>\n",
       "      <td>0</td>\n",
       "      <td>Graduate</td>\n",
       "      <td>No</td>\n",
       "      <td>6000</td>\n",
       "      <td>0.0</td>\n",
       "      <td>141.0</td>\n",
       "      <td>360.0</td>\n",
       "      <td>1.0</td>\n",
       "      <td>Urban</td>\n",
       "      <td>Y</td>\n",
       "      <td>6000.0</td>\n",
       "      <td>8.699681</td>\n",
       "      <td>501.0</td>\n",
       "      <td>4.955827</td>\n",
       "      <td>5.888878</td>\n",
       "      <td>8.699681</td>\n",
       "    </tr>\n",
       "  </tbody>\n",
       "</table>\n",
       "</div>"
      ],
      "text/plain": [
       "    Loan_ID Gender Married Dependents     Education Self_Employed  \\\n",
       "0  LP001002   Male      No          0      Graduate            No   \n",
       "1  LP001003   Male     Yes          1      Graduate            No   \n",
       "2  LP001005   Male     Yes          0      Graduate           Yes   \n",
       "3  LP001006   Male     Yes          0  Not Graduate            No   \n",
       "4  LP001008   Male      No          0      Graduate            No   \n",
       "\n",
       "   ApplicantIncome  CoapplicantIncome  LoanAmount  Loan_Amount_Term  \\\n",
       "0             5849                0.0       128.0             360.0   \n",
       "1             4583             1508.0       128.0             360.0   \n",
       "2             3000                0.0        66.0             360.0   \n",
       "3             2583             2358.0       120.0             360.0   \n",
       "4             6000                0.0       141.0             360.0   \n",
       "\n",
       "   Credit_History Property_Area Loan_Status  TotalIncome  NewApplicantIncome  \\\n",
       "0             1.0         Urban           Y       5849.0            8.674197   \n",
       "1             1.0         Rural           N       6091.0            8.430327   \n",
       "2             1.0         Urban           Y       3000.0            8.006701   \n",
       "3             1.0         Urban           Y       4941.0            7.857094   \n",
       "4             1.0         Urban           Y       6000.0            8.699681   \n",
       "\n",
       "   TotalLoanAmount  NewLoanAmount  NewLoan_Amount_Term  NewTotalIncome  \n",
       "0            488.0       4.859812             5.888878        8.674197  \n",
       "1            488.0       4.859812             5.888878        8.714732  \n",
       "2            426.0       4.204693             5.888878        8.006701  \n",
       "3            480.0       4.795791             5.888878        8.505525  \n",
       "4            501.0       4.955827             5.888878        8.699681  "
      ]
     },
     "execution_count": 32,
     "metadata": {},
     "output_type": "execute_result"
    }
   ],
   "source": [
    "data.head()"
   ]
  },
  {
   "cell_type": "code",
   "execution_count": 33,
   "id": "10c1e148",
   "metadata": {},
   "outputs": [
    {
     "data": {
      "text/html": [
       "<div>\n",
       "<style scoped>\n",
       "    .dataframe tbody tr th:only-of-type {\n",
       "        vertical-align: middle;\n",
       "    }\n",
       "\n",
       "    .dataframe tbody tr th {\n",
       "        vertical-align: top;\n",
       "    }\n",
       "\n",
       "    .dataframe thead th {\n",
       "        text-align: right;\n",
       "    }\n",
       "</style>\n",
       "<table border=\"1\" class=\"dataframe\">\n",
       "  <thead>\n",
       "    <tr style=\"text-align: right;\">\n",
       "      <th></th>\n",
       "      <th>Gender</th>\n",
       "      <th>Married</th>\n",
       "      <th>Dependents</th>\n",
       "      <th>Education</th>\n",
       "      <th>Self_Employed</th>\n",
       "      <th>LoanAmount</th>\n",
       "      <th>Credit_History</th>\n",
       "      <th>Property_Area</th>\n",
       "      <th>Loan_Status</th>\n",
       "      <th>NewApplicantIncome</th>\n",
       "      <th>TotalLoanAmount</th>\n",
       "      <th>NewLoanAmount</th>\n",
       "      <th>NewLoan_Amount_Term</th>\n",
       "      <th>NewTotalIncome</th>\n",
       "    </tr>\n",
       "  </thead>\n",
       "  <tbody>\n",
       "    <tr>\n",
       "      <th>0</th>\n",
       "      <td>Male</td>\n",
       "      <td>No</td>\n",
       "      <td>0</td>\n",
       "      <td>Graduate</td>\n",
       "      <td>No</td>\n",
       "      <td>128.0</td>\n",
       "      <td>1.0</td>\n",
       "      <td>Urban</td>\n",
       "      <td>Y</td>\n",
       "      <td>8.674197</td>\n",
       "      <td>488.0</td>\n",
       "      <td>4.859812</td>\n",
       "      <td>5.888878</td>\n",
       "      <td>8.674197</td>\n",
       "    </tr>\n",
       "    <tr>\n",
       "      <th>1</th>\n",
       "      <td>Male</td>\n",
       "      <td>Yes</td>\n",
       "      <td>1</td>\n",
       "      <td>Graduate</td>\n",
       "      <td>No</td>\n",
       "      <td>128.0</td>\n",
       "      <td>1.0</td>\n",
       "      <td>Rural</td>\n",
       "      <td>N</td>\n",
       "      <td>8.430327</td>\n",
       "      <td>488.0</td>\n",
       "      <td>4.859812</td>\n",
       "      <td>5.888878</td>\n",
       "      <td>8.714732</td>\n",
       "    </tr>\n",
       "    <tr>\n",
       "      <th>2</th>\n",
       "      <td>Male</td>\n",
       "      <td>Yes</td>\n",
       "      <td>0</td>\n",
       "      <td>Graduate</td>\n",
       "      <td>Yes</td>\n",
       "      <td>66.0</td>\n",
       "      <td>1.0</td>\n",
       "      <td>Urban</td>\n",
       "      <td>Y</td>\n",
       "      <td>8.006701</td>\n",
       "      <td>426.0</td>\n",
       "      <td>4.204693</td>\n",
       "      <td>5.888878</td>\n",
       "      <td>8.006701</td>\n",
       "    </tr>\n",
       "    <tr>\n",
       "      <th>3</th>\n",
       "      <td>Male</td>\n",
       "      <td>Yes</td>\n",
       "      <td>0</td>\n",
       "      <td>Not Graduate</td>\n",
       "      <td>No</td>\n",
       "      <td>120.0</td>\n",
       "      <td>1.0</td>\n",
       "      <td>Urban</td>\n",
       "      <td>Y</td>\n",
       "      <td>7.857094</td>\n",
       "      <td>480.0</td>\n",
       "      <td>4.795791</td>\n",
       "      <td>5.888878</td>\n",
       "      <td>8.505525</td>\n",
       "    </tr>\n",
       "    <tr>\n",
       "      <th>4</th>\n",
       "      <td>Male</td>\n",
       "      <td>No</td>\n",
       "      <td>0</td>\n",
       "      <td>Graduate</td>\n",
       "      <td>No</td>\n",
       "      <td>141.0</td>\n",
       "      <td>1.0</td>\n",
       "      <td>Urban</td>\n",
       "      <td>Y</td>\n",
       "      <td>8.699681</td>\n",
       "      <td>501.0</td>\n",
       "      <td>4.955827</td>\n",
       "      <td>5.888878</td>\n",
       "      <td>8.699681</td>\n",
       "    </tr>\n",
       "  </tbody>\n",
       "</table>\n",
       "</div>"
      ],
      "text/plain": [
       "  Gender Married Dependents     Education Self_Employed  LoanAmount  \\\n",
       "0   Male      No          0      Graduate            No       128.0   \n",
       "1   Male     Yes          1      Graduate            No       128.0   \n",
       "2   Male     Yes          0      Graduate           Yes        66.0   \n",
       "3   Male     Yes          0  Not Graduate            No       120.0   \n",
       "4   Male      No          0      Graduate            No       141.0   \n",
       "\n",
       "   Credit_History Property_Area Loan_Status  NewApplicantIncome  \\\n",
       "0             1.0         Urban           Y            8.674197   \n",
       "1             1.0         Rural           N            8.430327   \n",
       "2             1.0         Urban           Y            8.006701   \n",
       "3             1.0         Urban           Y            7.857094   \n",
       "4             1.0         Urban           Y            8.699681   \n",
       "\n",
       "   TotalLoanAmount  NewLoanAmount  NewLoan_Amount_Term  NewTotalIncome  \n",
       "0            488.0       4.859812             5.888878        8.674197  \n",
       "1            488.0       4.859812             5.888878        8.714732  \n",
       "2            426.0       4.204693             5.888878        8.006701  \n",
       "3            480.0       4.795791             5.888878        8.505525  \n",
       "4            501.0       4.955827             5.888878        8.699681  "
      ]
     },
     "execution_count": 33,
     "metadata": {},
     "output_type": "execute_result"
    }
   ],
   "source": [
    "# After Normalization and creating the new feature drop the unwanted columns\n",
    "cols = ['ApplicantIncome','CoapplicantIncome','Loan_Amount_Term','Loan_ID','TotalIncome']\n",
    "data = data.drop(columns = cols, axis = 1)\n",
    "data.head()"
   ]
  },
  {
   "cell_type": "code",
   "execution_count": 34,
   "id": "2d0df55e",
   "metadata": {},
   "outputs": [
    {
     "data": {
      "text/plain": [
       "'So for performing this conversion we have two techniques which are \"LabelEncoding and  OneHot-Encoding\" \\nLabelEncoding : This technique is used when we have one or more conditions like gender(male,female), education(graduate,non-graduate),\\nself_employed(yes,no) then we use LabelEncoding\\nOneHotEncoding : This technique we can use when we have multiple categorical values like name of cities name of states which\\nhold importance for each and every categorical value in that column'"
      ]
     },
     "execution_count": 34,
     "metadata": {},
     "output_type": "execute_result"
    }
   ],
   "source": [
    "# After normalization time to Convert the Catgorical data of datasets to numerical datatype \n",
    "'''So for performing this conversion we have two techniques which are \"LabelEncoding and  OneHot-Encoding\" \n",
    "LabelEncoding : This technique is used when we have one or more conditions like gender(male,female), education(graduate,non-graduate),\n",
    "self_employed(yes,no) then we use LabelEncoding\n",
    "OneHotEncoding : This technique we can use when we have multiple categorical values like name of cities name of states which\n",
    "hold importance for each and every categorical value in that column'''"
   ]
  },
  {
   "cell_type": "code",
   "execution_count": 35,
   "id": "9a3c2643",
   "metadata": {},
   "outputs": [],
   "source": [
    "# create a list of columns whose datatype we have to convert \n",
    "cols_name = ['Gender','Married','Education','Dependents','Property_Area','Self_Employed','Loan_Status']\n",
    "label_encoder = LabelEncoder()"
   ]
  },
  {
   "cell_type": "code",
   "execution_count": 36,
   "id": "43c044b5",
   "metadata": {},
   "outputs": [],
   "source": [
    "for col in cols_name:\n",
    "    data[col] = label_encoder.fit_transform(data[col])"
   ]
  },
  {
   "cell_type": "code",
   "execution_count": 37,
   "id": "bbf881cb",
   "metadata": {},
   "outputs": [
    {
     "data": {
      "text/html": [
       "<div>\n",
       "<style scoped>\n",
       "    .dataframe tbody tr th:only-of-type {\n",
       "        vertical-align: middle;\n",
       "    }\n",
       "\n",
       "    .dataframe tbody tr th {\n",
       "        vertical-align: top;\n",
       "    }\n",
       "\n",
       "    .dataframe thead th {\n",
       "        text-align: right;\n",
       "    }\n",
       "</style>\n",
       "<table border=\"1\" class=\"dataframe\">\n",
       "  <thead>\n",
       "    <tr style=\"text-align: right;\">\n",
       "      <th></th>\n",
       "      <th>Gender</th>\n",
       "      <th>Married</th>\n",
       "      <th>Dependents</th>\n",
       "      <th>Education</th>\n",
       "      <th>Self_Employed</th>\n",
       "      <th>LoanAmount</th>\n",
       "      <th>Credit_History</th>\n",
       "      <th>Property_Area</th>\n",
       "      <th>Loan_Status</th>\n",
       "      <th>NewApplicantIncome</th>\n",
       "      <th>TotalLoanAmount</th>\n",
       "      <th>NewLoanAmount</th>\n",
       "      <th>NewLoan_Amount_Term</th>\n",
       "      <th>NewTotalIncome</th>\n",
       "    </tr>\n",
       "  </thead>\n",
       "  <tbody>\n",
       "    <tr>\n",
       "      <th>0</th>\n",
       "      <td>1</td>\n",
       "      <td>0</td>\n",
       "      <td>0</td>\n",
       "      <td>0</td>\n",
       "      <td>0</td>\n",
       "      <td>128.0</td>\n",
       "      <td>1.0</td>\n",
       "      <td>2</td>\n",
       "      <td>1</td>\n",
       "      <td>8.674197</td>\n",
       "      <td>488.0</td>\n",
       "      <td>4.859812</td>\n",
       "      <td>5.888878</td>\n",
       "      <td>8.674197</td>\n",
       "    </tr>\n",
       "    <tr>\n",
       "      <th>1</th>\n",
       "      <td>1</td>\n",
       "      <td>1</td>\n",
       "      <td>1</td>\n",
       "      <td>0</td>\n",
       "      <td>0</td>\n",
       "      <td>128.0</td>\n",
       "      <td>1.0</td>\n",
       "      <td>0</td>\n",
       "      <td>0</td>\n",
       "      <td>8.430327</td>\n",
       "      <td>488.0</td>\n",
       "      <td>4.859812</td>\n",
       "      <td>5.888878</td>\n",
       "      <td>8.714732</td>\n",
       "    </tr>\n",
       "    <tr>\n",
       "      <th>2</th>\n",
       "      <td>1</td>\n",
       "      <td>1</td>\n",
       "      <td>0</td>\n",
       "      <td>0</td>\n",
       "      <td>1</td>\n",
       "      <td>66.0</td>\n",
       "      <td>1.0</td>\n",
       "      <td>2</td>\n",
       "      <td>1</td>\n",
       "      <td>8.006701</td>\n",
       "      <td>426.0</td>\n",
       "      <td>4.204693</td>\n",
       "      <td>5.888878</td>\n",
       "      <td>8.006701</td>\n",
       "    </tr>\n",
       "    <tr>\n",
       "      <th>3</th>\n",
       "      <td>1</td>\n",
       "      <td>1</td>\n",
       "      <td>0</td>\n",
       "      <td>1</td>\n",
       "      <td>0</td>\n",
       "      <td>120.0</td>\n",
       "      <td>1.0</td>\n",
       "      <td>2</td>\n",
       "      <td>1</td>\n",
       "      <td>7.857094</td>\n",
       "      <td>480.0</td>\n",
       "      <td>4.795791</td>\n",
       "      <td>5.888878</td>\n",
       "      <td>8.505525</td>\n",
       "    </tr>\n",
       "    <tr>\n",
       "      <th>4</th>\n",
       "      <td>1</td>\n",
       "      <td>0</td>\n",
       "      <td>0</td>\n",
       "      <td>0</td>\n",
       "      <td>0</td>\n",
       "      <td>141.0</td>\n",
       "      <td>1.0</td>\n",
       "      <td>2</td>\n",
       "      <td>1</td>\n",
       "      <td>8.699681</td>\n",
       "      <td>501.0</td>\n",
       "      <td>4.955827</td>\n",
       "      <td>5.888878</td>\n",
       "      <td>8.699681</td>\n",
       "    </tr>\n",
       "  </tbody>\n",
       "</table>\n",
       "</div>"
      ],
      "text/plain": [
       "   Gender  Married  Dependents  Education  Self_Employed  LoanAmount  \\\n",
       "0       1        0           0          0              0       128.0   \n",
       "1       1        1           1          0              0       128.0   \n",
       "2       1        1           0          0              1        66.0   \n",
       "3       1        1           0          1              0       120.0   \n",
       "4       1        0           0          0              0       141.0   \n",
       "\n",
       "   Credit_History  Property_Area  Loan_Status  NewApplicantIncome  \\\n",
       "0             1.0              2            1            8.674197   \n",
       "1             1.0              0            0            8.430327   \n",
       "2             1.0              2            1            8.006701   \n",
       "3             1.0              2            1            7.857094   \n",
       "4             1.0              2            1            8.699681   \n",
       "\n",
       "   TotalLoanAmount  NewLoanAmount  NewLoan_Amount_Term  NewTotalIncome  \n",
       "0            488.0       4.859812             5.888878        8.674197  \n",
       "1            488.0       4.859812             5.888878        8.714732  \n",
       "2            426.0       4.204693             5.888878        8.006701  \n",
       "3            480.0       4.795791             5.888878        8.505525  \n",
       "4            501.0       4.955827             5.888878        8.699681  "
      ]
     },
     "execution_count": 37,
     "metadata": {},
     "output_type": "execute_result"
    }
   ],
   "source": [
    "data.head()"
   ]
  },
  {
   "cell_type": "code",
   "execution_count": 38,
   "id": "78da9a6d",
   "metadata": {},
   "outputs": [
    {
     "data": {
      "text/plain": [
       "Gender                   int32\n",
       "Married                  int32\n",
       "Dependents               int32\n",
       "Education                int32\n",
       "Self_Employed            int32\n",
       "LoanAmount             float64\n",
       "Credit_History         float64\n",
       "Property_Area            int32\n",
       "Loan_Status              int32\n",
       "NewApplicantIncome     float64\n",
       "TotalLoanAmount        float64\n",
       "NewLoanAmount          float64\n",
       "NewLoan_Amount_Term    float64\n",
       "NewTotalIncome         float64\n",
       "dtype: object"
      ]
     },
     "execution_count": 38,
     "metadata": {},
     "output_type": "execute_result"
    }
   ],
   "source": [
    "data.dtypes     # we can see that all the features/ columns are converted into the numerical datatypes"
   ]
  },
  {
   "cell_type": "code",
   "execution_count": 39,
   "id": "784b0d1c",
   "metadata": {},
   "outputs": [],
   "source": [
    "# Now, after this we have to create/split a dependent and independent variable \n",
    "x = data.drop(columns= ['Loan_Status'],axis=1)\n",
    "y = data['Loan_Status']"
   ]
  },
  {
   "cell_type": "code",
   "execution_count": 40,
   "id": "0135e253",
   "metadata": {},
   "outputs": [],
   "source": [
    "# Creating a Machine Learning Model\n",
    "# importing the required Libraries for creating ML model\n",
    "from sklearn.model_selection import train_test_split, cross_val_score\n",
    "from sklearn.metrics import accuracy_score\n",
    "from sklearn.metrics import confusion_matrix\n",
    "from sklearn.linear_model import LogisticRegression\n",
    "from sklearn.tree import DecisionTreeClassifier     # it will do both classification as well as regression task but here we have to do classification so we import classifier\n",
    "from sklearn.ensemble import RandomForestClassifier    # randomForestclassifer is type of ML model in which multiple decisiontreeclassifier are train and avg of all is expected result\n",
    "from sklearn.neighbors import KNeighborsClassifier"
   ]
  },
  {
   "cell_type": "code",
   "execution_count": 41,
   "id": "37f52ccf",
   "metadata": {},
   "outputs": [],
   "source": [
    "# spliting into train ,test, split\n",
    "x_train,x_test,y_train,y_test = train_test_split(x,y,test_size = 0.25,random_state = 32)"
   ]
  },
  {
   "cell_type": "code",
   "execution_count": 42,
   "id": "dbc1a56d",
   "metadata": {},
   "outputs": [],
   "source": [
    "# Model1\n",
    "# Logestics regression()"
   ]
  },
  {
   "cell_type": "code",
   "execution_count": 43,
   "id": "70af27d8",
   "metadata": {},
   "outputs": [
    {
     "name": "stdout",
     "output_type": "stream",
     "text": [
      "The accuracy score for Logistic Regression Model is : 81.17\n"
     ]
    }
   ],
   "source": [
    "Model_1 = LogisticRegression()    # calling the imported model Logisticregression\n",
    "Model_1.fit(x_train,y_train)      # fitting the model to the training data or train our model on training data\n",
    "y1_pred = Model_1.predict(x_test)       # y_pred store the predicted values based on testing data x_test\n",
    "accuracy = accuracy_score(y_test,y1_pred) # checking the accuracy on original testing data and y_pred \n",
    "print(f\"The accuracy score for Logistic Regression Model is : {round(accuracy*100,2)}\")"
   ]
  },
  {
   "cell_type": "code",
   "execution_count": 44,
   "id": "f8a91a8c",
   "metadata": {},
   "outputs": [],
   "source": [
    "# Model2\n",
    "# DecisionTreeClassifier()"
   ]
  },
  {
   "cell_type": "code",
   "execution_count": 45,
   "id": "e20c0d0a",
   "metadata": {},
   "outputs": [
    {
     "name": "stdout",
     "output_type": "stream",
     "text": [
      "The accuracy score for DecisionTreeClassifier Model is : 73.38\n"
     ]
    }
   ],
   "source": [
    "Model_2 = DecisionTreeClassifier()         # calling the imported model DecisionTreeClassifier()\n",
    "Model_2.fit(x_train,y_train)               # fitting the model to the training data or train our model on training data\n",
    "y2_pred = Model_2.predict(x_test)           # y_pred store the predicted values based on testing data x_test\n",
    "accuracy = accuracy_score(y_test,y2_pred)   # checking the accuracy on original testing data and y_pred \n",
    "print(f\"The accuracy score for DecisionTreeClassifier Model is : {round(accuracy*100,2)}\")"
   ]
  },
  {
   "cell_type": "code",
   "execution_count": 46,
   "id": "d4ff1dd5",
   "metadata": {},
   "outputs": [],
   "source": [
    "# Model3\n",
    "# RandomForestClassifier() "
   ]
  },
  {
   "cell_type": "code",
   "execution_count": 47,
   "id": "49ec47b4",
   "metadata": {},
   "outputs": [
    {
     "name": "stdout",
     "output_type": "stream",
     "text": [
      "The accuracy score for RandomForestClassifier  Model is : 79.87\n"
     ]
    }
   ],
   "source": [
    "Model_3 = RandomForestClassifier()         # calling the imported model randomForestClassifier() \n",
    "Model_3.fit(x_train,y_train)               # fitting the model to the training data or train our model on training data\n",
    "y3_pred = Model_3.predict(x_test)           # y_pred store the predicted values based on testing data x_test\n",
    "accuracy = accuracy_score(y_test,y3_pred)   # checking the accuracy on original testing data and y_pred \n",
    "print(f\"The accuracy score for RandomForestClassifier  Model is : {round(accuracy*100,2)}\")"
   ]
  },
  {
   "cell_type": "code",
   "execution_count": 48,
   "id": "53553590",
   "metadata": {},
   "outputs": [],
   "source": [
    "# Model4\n",
    "# KNeighborsClassifier()"
   ]
  },
  {
   "cell_type": "code",
   "execution_count": 49,
   "id": "00236933",
   "metadata": {},
   "outputs": [
    {
     "name": "stdout",
     "output_type": "stream",
     "text": [
      "The accuracy score for  KNeighborsClassifier()  Model is : 62.99\n"
     ]
    }
   ],
   "source": [
    "Model_4 = KNeighborsClassifier(n_neighbors=10)           # calling the imported model KNeighborsClassifier()\n",
    "Model_4.fit(x_train,y_train)               # fitting the model to the training data or train our model on training data\n",
    "y4_pred = Model_4.predict(x_test)           # y_pred store the predicted values based on testing data x_test\n",
    "accuracy = accuracy_score(y_test,y4_pred)   # checking the accuracy on original testing data and y_pred \n",
    "print(f\"The accuracy score for  KNeighborsClassifier()  Model is : {round(accuracy*100,2)}\")"
   ]
  },
  {
   "cell_type": "code",
   "execution_count": 50,
   "id": "2c98375d",
   "metadata": {},
   "outputs": [],
   "source": [
    "# Checking the precsion reacll and F1 score by classification report\n",
    "from sklearn.metrics import classification_report"
   ]
  },
  {
   "cell_type": "code",
   "execution_count": 51,
   "id": "f162b8d0",
   "metadata": {},
   "outputs": [
    {
     "name": "stdout",
     "output_type": "stream",
     "text": [
      "Classification Report For The Model : LogisticRegression() : \n",
      "               precision    recall  f1-score   support\n",
      "\n",
      "           0       0.88      0.45      0.59        47\n",
      "           1       0.80      0.97      0.88       107\n",
      "\n",
      "    accuracy                           0.81       154\n",
      "   macro avg       0.84      0.71      0.73       154\n",
      "weighted avg       0.82      0.81      0.79       154\n",
      "\n",
      "\n",
      "Classification Report For The Model : DecisionTreeClassifier() : \n",
      "               precision    recall  f1-score   support\n",
      "\n",
      "           0       0.57      0.55      0.56        47\n",
      "           1       0.81      0.81      0.81       107\n",
      "\n",
      "    accuracy                           0.73       154\n",
      "   macro avg       0.69      0.68      0.68       154\n",
      "weighted avg       0.73      0.73      0.73       154\n",
      "\n",
      "\n",
      "Classification Report For The Model : RandomForestClassifier() : \n",
      "               precision    recall  f1-score   support\n",
      "\n",
      "           0       0.75      0.51      0.61        47\n",
      "           1       0.81      0.93      0.86       107\n",
      "\n",
      "    accuracy                           0.80       154\n",
      "   macro avg       0.78      0.72      0.74       154\n",
      "weighted avg       0.79      0.80      0.79       154\n",
      "\n",
      "\n",
      "Classification Report For The Model : KNeighborsClassifier(n_neighbors=10) : \n",
      "               precision    recall  f1-score   support\n",
      "\n",
      "           0       0.29      0.15      0.20        47\n",
      "           1       0.69      0.84      0.76       107\n",
      "\n",
      "    accuracy                           0.63       154\n",
      "   macro avg       0.49      0.50      0.48       154\n",
      "weighted avg       0.57      0.63      0.59       154\n",
      "\n",
      "\n"
     ]
    }
   ],
   "source": [
    "# creating a function to computation\n",
    "def generate_classification_report(model_name,y_pred,y_test):\n",
    "    report = classification_report(y_pred,y_test)\n",
    "    print(f\"Classification Report For The Model : {model_name} : \\n {report}\\n\")\n",
    "    \n",
    "generate_classification_report(Model_1,y_test,y1_pred)\n",
    "generate_classification_report(Model_2,y_test,y2_pred)\n",
    "generate_classification_report(Model_3,y_test,y3_pred)\n",
    "generate_classification_report(Model_4,y_test,y4_pred)"
   ]
  },
  {
   "cell_type": "code",
   "execution_count": null,
   "id": "ba3d6ba1",
   "metadata": {},
   "outputs": [],
   "source": []
  }
 ],
 "metadata": {
  "kernelspec": {
   "display_name": "Python 3 (ipykernel)",
   "language": "python",
   "name": "python3"
  },
  "language_info": {
   "codemirror_mode": {
    "name": "ipython",
    "version": 3
   },
   "file_extension": ".py",
   "mimetype": "text/x-python",
   "name": "python",
   "nbconvert_exporter": "python",
   "pygments_lexer": "ipython3",
   "version": "3.11.5"
  }
 },
 "nbformat": 4,
 "nbformat_minor": 5
}
